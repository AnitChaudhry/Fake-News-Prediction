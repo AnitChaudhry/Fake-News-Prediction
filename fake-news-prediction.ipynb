{
 "cells": [
  {
   "cell_type": "code",
   "execution_count": 1,
   "id": "94615f4f",
   "metadata": {
    "_cell_guid": "b1076dfc-b9ad-4769-8c92-a6c4dae69d19",
    "_uuid": "8f2839f25d086af736a60e9eeb907d3b93b6e0e5",
    "execution": {
     "iopub.execute_input": "2022-11-20T14:54:28.555898Z",
     "iopub.status.busy": "2022-11-20T14:54:28.554574Z",
     "iopub.status.idle": "2022-11-20T14:54:29.672636Z",
     "shell.execute_reply": "2022-11-20T14:54:29.673159Z",
     "shell.execute_reply.started": "2022-04-07T10:19:33.517879Z"
    },
    "papermill": {
     "duration": 1.170313,
     "end_time": "2022-11-20T14:54:29.673489",
     "exception": false,
     "start_time": "2022-11-20T14:54:28.503176",
     "status": "completed"
    },
    "tags": []
   },
   "outputs": [
    {
     "name": "stdout",
     "output_type": "stream",
     "text": [
      "/kaggle/input/fake-news/submit.csv\n",
      "/kaggle/input/fake-news/train.csv\n",
      "/kaggle/input/fake-news/test.csv\n"
     ]
    }
   ],
   "source": [
    "# This Python 3 environment comes with many helpful analytics libraries installed\n",
    "# It is defined by the kaggle/python Docker image: https://github.com/kaggle/docker-python\n",
    "# For example, here's several helpful packages to load\n",
    "\n",
    "import numpy as np # linear algebra\n",
    "import pandas as pd # data processing, CSV file I/O (e.g. pd.read_csv)\n",
    "import seaborn as sns\n",
    "import matplotlib.pyplot as plt\n",
    "import warnings\n",
    "\n",
    "# Input data files are available in the read-only \"../input/\" directory\n",
    "# For example, running this (by clicking run or pressing Shift+Enter) will list all files under the input directory\n",
    "\n",
    "import os\n",
    "for dirname, _, filenames in os.walk('/kaggle/input'):\n",
    "    for filename in filenames:\n",
    "        print(os.path.join(dirname, filename))\n",
    "\n",
    "# You can write up to 20GB to the current directory (/kaggle/working/) that gets preserved as output when you create a version using \"Save & Run All\" \n",
    "# You can also write temporary files to /kaggle/temp/, but they won't be saved outside of the current session"
   ]
  },
  {
   "cell_type": "code",
   "execution_count": 2,
   "id": "e8f35070",
   "metadata": {
    "execution": {
     "iopub.execute_input": "2022-11-20T14:54:29.776467Z",
     "iopub.status.busy": "2022-11-20T14:54:29.775532Z",
     "iopub.status.idle": "2022-11-20T14:54:29.778187Z",
     "shell.execute_reply": "2022-11-20T14:54:29.777552Z",
     "shell.execute_reply.started": "2022-04-07T10:19:34.676841Z"
    },
    "papermill": {
     "duration": 0.056279,
     "end_time": "2022-11-20T14:54:29.778339",
     "exception": false,
     "start_time": "2022-11-20T14:54:29.722060",
     "status": "completed"
    },
    "tags": []
   },
   "outputs": [],
   "source": [
    "warnings.filterwarnings('ignore')"
   ]
  },
  {
   "cell_type": "code",
   "execution_count": 3,
   "id": "4d9153a0",
   "metadata": {
    "execution": {
     "iopub.execute_input": "2022-11-20T14:54:29.875208Z",
     "iopub.status.busy": "2022-11-20T14:54:29.874519Z",
     "iopub.status.idle": "2022-11-20T14:54:32.844045Z",
     "shell.execute_reply": "2022-11-20T14:54:32.844582Z",
     "shell.execute_reply.started": "2022-04-07T10:19:34.683561Z"
    },
    "papermill": {
     "duration": 3.020249,
     "end_time": "2022-11-20T14:54:32.844763",
     "exception": false,
     "start_time": "2022-11-20T14:54:29.824514",
     "status": "completed"
    },
    "tags": []
   },
   "outputs": [
    {
     "data": {
      "text/html": [
       "<div>\n",
       "<style scoped>\n",
       "    .dataframe tbody tr th:only-of-type {\n",
       "        vertical-align: middle;\n",
       "    }\n",
       "\n",
       "    .dataframe tbody tr th {\n",
       "        vertical-align: top;\n",
       "    }\n",
       "\n",
       "    .dataframe thead th {\n",
       "        text-align: right;\n",
       "    }\n",
       "</style>\n",
       "<table border=\"1\" class=\"dataframe\">\n",
       "  <thead>\n",
       "    <tr style=\"text-align: right;\">\n",
       "      <th></th>\n",
       "      <th>id</th>\n",
       "      <th>title</th>\n",
       "      <th>author</th>\n",
       "      <th>text</th>\n",
       "      <th>label</th>\n",
       "    </tr>\n",
       "  </thead>\n",
       "  <tbody>\n",
       "    <tr>\n",
       "      <th>0</th>\n",
       "      <td>0</td>\n",
       "      <td>House Dem Aide: We Didn’t Even See Comey’s Let...</td>\n",
       "      <td>Darrell Lucus</td>\n",
       "      <td>House Dem Aide: We Didn’t Even See Comey’s Let...</td>\n",
       "      <td>1</td>\n",
       "    </tr>\n",
       "    <tr>\n",
       "      <th>1</th>\n",
       "      <td>1</td>\n",
       "      <td>FLYNN: Hillary Clinton, Big Woman on Campus - ...</td>\n",
       "      <td>Daniel J. Flynn</td>\n",
       "      <td>Ever get the feeling your life circles the rou...</td>\n",
       "      <td>0</td>\n",
       "    </tr>\n",
       "    <tr>\n",
       "      <th>2</th>\n",
       "      <td>2</td>\n",
       "      <td>Why the Truth Might Get You Fired</td>\n",
       "      <td>Consortiumnews.com</td>\n",
       "      <td>Why the Truth Might Get You Fired October 29, ...</td>\n",
       "      <td>1</td>\n",
       "    </tr>\n",
       "    <tr>\n",
       "      <th>3</th>\n",
       "      <td>3</td>\n",
       "      <td>15 Civilians Killed In Single US Airstrike Hav...</td>\n",
       "      <td>Jessica Purkiss</td>\n",
       "      <td>Videos 15 Civilians Killed In Single US Airstr...</td>\n",
       "      <td>1</td>\n",
       "    </tr>\n",
       "    <tr>\n",
       "      <th>4</th>\n",
       "      <td>4</td>\n",
       "      <td>Iranian woman jailed for fictional unpublished...</td>\n",
       "      <td>Howard Portnoy</td>\n",
       "      <td>Print \\nAn Iranian woman has been sentenced to...</td>\n",
       "      <td>1</td>\n",
       "    </tr>\n",
       "  </tbody>\n",
       "</table>\n",
       "</div>"
      ],
      "text/plain": [
       "   id                                              title              author  \\\n",
       "0   0  House Dem Aide: We Didn’t Even See Comey’s Let...       Darrell Lucus   \n",
       "1   1  FLYNN: Hillary Clinton, Big Woman on Campus - ...     Daniel J. Flynn   \n",
       "2   2                  Why the Truth Might Get You Fired  Consortiumnews.com   \n",
       "3   3  15 Civilians Killed In Single US Airstrike Hav...     Jessica Purkiss   \n",
       "4   4  Iranian woman jailed for fictional unpublished...      Howard Portnoy   \n",
       "\n",
       "                                                text  label  \n",
       "0  House Dem Aide: We Didn’t Even See Comey’s Let...      1  \n",
       "1  Ever get the feeling your life circles the rou...      0  \n",
       "2  Why the Truth Might Get You Fired October 29, ...      1  \n",
       "3  Videos 15 Civilians Killed In Single US Airstr...      1  \n",
       "4  Print \\nAn Iranian woman has been sentenced to...      1  "
      ]
     },
     "execution_count": 3,
     "metadata": {},
     "output_type": "execute_result"
    }
   ],
   "source": [
    "# load dataset\n",
    "df = pd.read_csv('/kaggle/input/fake-news/train.csv')\n",
    "df.head()"
   ]
  },
  {
   "cell_type": "code",
   "execution_count": 4,
   "id": "be0854f4",
   "metadata": {
    "execution": {
     "iopub.execute_input": "2022-11-20T14:54:32.951738Z",
     "iopub.status.busy": "2022-11-20T14:54:32.950176Z",
     "iopub.status.idle": "2022-11-20T14:54:32.954539Z",
     "shell.execute_reply": "2022-11-20T14:54:32.953869Z",
     "shell.execute_reply.started": "2022-04-07T10:19:38.408716Z"
    },
    "papermill": {
     "duration": 0.062208,
     "end_time": "2022-11-20T14:54:32.954694",
     "exception": false,
     "start_time": "2022-11-20T14:54:32.892486",
     "status": "completed"
    },
    "tags": []
   },
   "outputs": [],
   "source": [
    "# we will only Going to use title and author Columns for Our prediction\n",
    "df.drop(['id','text'],axis=1,inplace=True)"
   ]
  },
  {
   "cell_type": "code",
   "execution_count": 5,
   "id": "51babfa1",
   "metadata": {
    "execution": {
     "iopub.execute_input": "2022-11-20T14:54:33.059382Z",
     "iopub.status.busy": "2022-11-20T14:54:33.058426Z",
     "iopub.status.idle": "2022-11-20T14:54:33.063157Z",
     "shell.execute_reply": "2022-11-20T14:54:33.062438Z",
     "shell.execute_reply.started": "2022-04-07T10:19:38.421927Z"
    },
    "papermill": {
     "duration": 0.061478,
     "end_time": "2022-11-20T14:54:33.063316",
     "exception": false,
     "start_time": "2022-11-20T14:54:33.001838",
     "status": "completed"
    },
    "tags": []
   },
   "outputs": [
    {
     "data": {
      "text/html": [
       "<div>\n",
       "<style scoped>\n",
       "    .dataframe tbody tr th:only-of-type {\n",
       "        vertical-align: middle;\n",
       "    }\n",
       "\n",
       "    .dataframe tbody tr th {\n",
       "        vertical-align: top;\n",
       "    }\n",
       "\n",
       "    .dataframe thead th {\n",
       "        text-align: right;\n",
       "    }\n",
       "</style>\n",
       "<table border=\"1\" class=\"dataframe\">\n",
       "  <thead>\n",
       "    <tr style=\"text-align: right;\">\n",
       "      <th></th>\n",
       "      <th>title</th>\n",
       "      <th>author</th>\n",
       "      <th>label</th>\n",
       "    </tr>\n",
       "  </thead>\n",
       "  <tbody>\n",
       "    <tr>\n",
       "      <th>0</th>\n",
       "      <td>House Dem Aide: We Didn’t Even See Comey’s Let...</td>\n",
       "      <td>Darrell Lucus</td>\n",
       "      <td>1</td>\n",
       "    </tr>\n",
       "    <tr>\n",
       "      <th>1</th>\n",
       "      <td>FLYNN: Hillary Clinton, Big Woman on Campus - ...</td>\n",
       "      <td>Daniel J. Flynn</td>\n",
       "      <td>0</td>\n",
       "    </tr>\n",
       "    <tr>\n",
       "      <th>2</th>\n",
       "      <td>Why the Truth Might Get You Fired</td>\n",
       "      <td>Consortiumnews.com</td>\n",
       "      <td>1</td>\n",
       "    </tr>\n",
       "    <tr>\n",
       "      <th>3</th>\n",
       "      <td>15 Civilians Killed In Single US Airstrike Hav...</td>\n",
       "      <td>Jessica Purkiss</td>\n",
       "      <td>1</td>\n",
       "    </tr>\n",
       "    <tr>\n",
       "      <th>4</th>\n",
       "      <td>Iranian woman jailed for fictional unpublished...</td>\n",
       "      <td>Howard Portnoy</td>\n",
       "      <td>1</td>\n",
       "    </tr>\n",
       "  </tbody>\n",
       "</table>\n",
       "</div>"
      ],
      "text/plain": [
       "                                               title              author  \\\n",
       "0  House Dem Aide: We Didn’t Even See Comey’s Let...       Darrell Lucus   \n",
       "1  FLYNN: Hillary Clinton, Big Woman on Campus - ...     Daniel J. Flynn   \n",
       "2                  Why the Truth Might Get You Fired  Consortiumnews.com   \n",
       "3  15 Civilians Killed In Single US Airstrike Hav...     Jessica Purkiss   \n",
       "4  Iranian woman jailed for fictional unpublished...      Howard Portnoy   \n",
       "\n",
       "   label  \n",
       "0      1  \n",
       "1      0  \n",
       "2      1  \n",
       "3      1  \n",
       "4      1  "
      ]
     },
     "execution_count": 5,
     "metadata": {},
     "output_type": "execute_result"
    }
   ],
   "source": [
    "df.head()"
   ]
  },
  {
   "cell_type": "markdown",
   "id": "08e1e746",
   "metadata": {
    "papermill": {
     "duration": 0.046894,
     "end_time": "2022-11-20T14:54:33.157549",
     "exception": false,
     "start_time": "2022-11-20T14:54:33.110655",
     "status": "completed"
    },
    "tags": []
   },
   "source": [
    "# Data Cleaning"
   ]
  },
  {
   "cell_type": "code",
   "execution_count": 6,
   "id": "b7945a4b",
   "metadata": {
    "execution": {
     "iopub.execute_input": "2022-11-20T14:54:33.261541Z",
     "iopub.status.busy": "2022-11-20T14:54:33.259270Z",
     "iopub.status.idle": "2022-11-20T14:54:33.265102Z",
     "shell.execute_reply": "2022-11-20T14:54:33.265553Z",
     "shell.execute_reply.started": "2022-04-07T10:19:38.439800Z"
    },
    "papermill": {
     "duration": 0.061489,
     "end_time": "2022-11-20T14:54:33.265735",
     "exception": false,
     "start_time": "2022-11-20T14:54:33.204246",
     "status": "completed"
    },
    "tags": []
   },
   "outputs": [
    {
     "data": {
      "text/plain": [
       "title      558\n",
       "author    1957\n",
       "label        0\n",
       "dtype: int64"
      ]
     },
     "execution_count": 6,
     "metadata": {},
     "output_type": "execute_result"
    }
   ],
   "source": [
    "# Check for Null Values\n",
    "df.isnull().sum()"
   ]
  },
  {
   "cell_type": "code",
   "execution_count": 7,
   "id": "ab903969",
   "metadata": {
    "execution": {
     "iopub.execute_input": "2022-11-20T14:54:33.373755Z",
     "iopub.status.busy": "2022-11-20T14:54:33.371285Z",
     "iopub.status.idle": "2022-11-20T14:54:33.379157Z",
     "shell.execute_reply": "2022-11-20T14:54:33.378528Z",
     "shell.execute_reply.started": "2022-04-07T10:19:38.461911Z"
    },
    "papermill": {
     "duration": 0.065813,
     "end_time": "2022-11-20T14:54:33.379313",
     "exception": false,
     "start_time": "2022-11-20T14:54:33.313500",
     "status": "completed"
    },
    "tags": []
   },
   "outputs": [],
   "source": [
    "# Drop Null values\n",
    "df = df.dropna()"
   ]
  },
  {
   "cell_type": "code",
   "execution_count": 8,
   "id": "81ef0a61",
   "metadata": {
    "execution": {
     "iopub.execute_input": "2022-11-20T14:54:33.479286Z",
     "iopub.status.busy": "2022-11-20T14:54:33.478642Z",
     "iopub.status.idle": "2022-11-20T14:54:33.501733Z",
     "shell.execute_reply": "2022-11-20T14:54:33.501168Z",
     "shell.execute_reply.started": "2022-04-07T10:19:38.480952Z"
    },
    "papermill": {
     "duration": 0.073584,
     "end_time": "2022-11-20T14:54:33.501892",
     "exception": false,
     "start_time": "2022-11-20T14:54:33.428308",
     "status": "completed"
    },
    "tags": []
   },
   "outputs": [
    {
     "data": {
      "text/plain": [
       "164"
      ]
     },
     "execution_count": 8,
     "metadata": {},
     "output_type": "execute_result"
    }
   ],
   "source": [
    "# Check for Duplicated Values\n",
    "df.duplicated().sum()"
   ]
  },
  {
   "cell_type": "code",
   "execution_count": 9,
   "id": "6dbeae69",
   "metadata": {
    "execution": {
     "iopub.execute_input": "2022-11-20T14:54:33.607802Z",
     "iopub.status.busy": "2022-11-20T14:54:33.606878Z",
     "iopub.status.idle": "2022-11-20T14:54:33.621086Z",
     "shell.execute_reply": "2022-11-20T14:54:33.621585Z",
     "shell.execute_reply.started": "2022-04-07T10:19:38.507582Z"
    },
    "papermill": {
     "duration": 0.070929,
     "end_time": "2022-11-20T14:54:33.621789",
     "exception": false,
     "start_time": "2022-11-20T14:54:33.550860",
     "status": "completed"
    },
    "tags": []
   },
   "outputs": [],
   "source": [
    "# Drop Duplicated Values\n",
    "df = df.drop_duplicates(keep='first')"
   ]
  },
  {
   "cell_type": "code",
   "execution_count": 10,
   "id": "7c206546",
   "metadata": {
    "execution": {
     "iopub.execute_input": "2022-11-20T14:54:33.737173Z",
     "iopub.status.busy": "2022-11-20T14:54:33.736489Z",
     "iopub.status.idle": "2022-11-20T14:54:33.739299Z",
     "shell.execute_reply": "2022-11-20T14:54:33.738753Z",
     "shell.execute_reply.started": "2022-04-07T10:19:38.528480Z"
    },
    "papermill": {
     "duration": 0.069958,
     "end_time": "2022-11-20T14:54:33.739458",
     "exception": false,
     "start_time": "2022-11-20T14:54:33.669500",
     "status": "completed"
    },
    "tags": []
   },
   "outputs": [],
   "source": [
    "# Merge both Columns Author and Title and Create New Column Content\n",
    "df['content'] = df['title'] + ' ' + df['author'] "
   ]
  },
  {
   "cell_type": "code",
   "execution_count": 11,
   "id": "37e242ac",
   "metadata": {
    "execution": {
     "iopub.execute_input": "2022-11-20T14:54:33.849262Z",
     "iopub.status.busy": "2022-11-20T14:54:33.848239Z",
     "iopub.status.idle": "2022-11-20T14:54:33.851988Z",
     "shell.execute_reply": "2022-11-20T14:54:33.852516Z",
     "shell.execute_reply.started": "2022-04-07T10:19:38.545834Z"
    },
    "papermill": {
     "duration": 0.065308,
     "end_time": "2022-11-20T14:54:33.852703",
     "exception": false,
     "start_time": "2022-11-20T14:54:33.787395",
     "status": "completed"
    },
    "tags": []
   },
   "outputs": [
    {
     "data": {
      "text/html": [
       "<div>\n",
       "<style scoped>\n",
       "    .dataframe tbody tr th:only-of-type {\n",
       "        vertical-align: middle;\n",
       "    }\n",
       "\n",
       "    .dataframe tbody tr th {\n",
       "        vertical-align: top;\n",
       "    }\n",
       "\n",
       "    .dataframe thead th {\n",
       "        text-align: right;\n",
       "    }\n",
       "</style>\n",
       "<table border=\"1\" class=\"dataframe\">\n",
       "  <thead>\n",
       "    <tr style=\"text-align: right;\">\n",
       "      <th></th>\n",
       "      <th>title</th>\n",
       "      <th>author</th>\n",
       "      <th>label</th>\n",
       "      <th>content</th>\n",
       "    </tr>\n",
       "  </thead>\n",
       "  <tbody>\n",
       "    <tr>\n",
       "      <th>0</th>\n",
       "      <td>House Dem Aide: We Didn’t Even See Comey’s Let...</td>\n",
       "      <td>Darrell Lucus</td>\n",
       "      <td>1</td>\n",
       "      <td>House Dem Aide: We Didn’t Even See Comey’s Let...</td>\n",
       "    </tr>\n",
       "    <tr>\n",
       "      <th>1</th>\n",
       "      <td>FLYNN: Hillary Clinton, Big Woman on Campus - ...</td>\n",
       "      <td>Daniel J. Flynn</td>\n",
       "      <td>0</td>\n",
       "      <td>FLYNN: Hillary Clinton, Big Woman on Campus - ...</td>\n",
       "    </tr>\n",
       "    <tr>\n",
       "      <th>2</th>\n",
       "      <td>Why the Truth Might Get You Fired</td>\n",
       "      <td>Consortiumnews.com</td>\n",
       "      <td>1</td>\n",
       "      <td>Why the Truth Might Get You Fired Consortiumne...</td>\n",
       "    </tr>\n",
       "    <tr>\n",
       "      <th>3</th>\n",
       "      <td>15 Civilians Killed In Single US Airstrike Hav...</td>\n",
       "      <td>Jessica Purkiss</td>\n",
       "      <td>1</td>\n",
       "      <td>15 Civilians Killed In Single US Airstrike Hav...</td>\n",
       "    </tr>\n",
       "    <tr>\n",
       "      <th>4</th>\n",
       "      <td>Iranian woman jailed for fictional unpublished...</td>\n",
       "      <td>Howard Portnoy</td>\n",
       "      <td>1</td>\n",
       "      <td>Iranian woman jailed for fictional unpublished...</td>\n",
       "    </tr>\n",
       "  </tbody>\n",
       "</table>\n",
       "</div>"
      ],
      "text/plain": [
       "                                               title              author  \\\n",
       "0  House Dem Aide: We Didn’t Even See Comey’s Let...       Darrell Lucus   \n",
       "1  FLYNN: Hillary Clinton, Big Woman on Campus - ...     Daniel J. Flynn   \n",
       "2                  Why the Truth Might Get You Fired  Consortiumnews.com   \n",
       "3  15 Civilians Killed In Single US Airstrike Hav...     Jessica Purkiss   \n",
       "4  Iranian woman jailed for fictional unpublished...      Howard Portnoy   \n",
       "\n",
       "   label                                            content  \n",
       "0      1  House Dem Aide: We Didn’t Even See Comey’s Let...  \n",
       "1      0  FLYNN: Hillary Clinton, Big Woman on Campus - ...  \n",
       "2      1  Why the Truth Might Get You Fired Consortiumne...  \n",
       "3      1  15 Civilians Killed In Single US Airstrike Hav...  \n",
       "4      1  Iranian woman jailed for fictional unpublished...  "
      ]
     },
     "execution_count": 11,
     "metadata": {},
     "output_type": "execute_result"
    }
   ],
   "source": [
    "df.head()"
   ]
  },
  {
   "cell_type": "markdown",
   "id": "976bf799",
   "metadata": {
    "papermill": {
     "duration": 0.048224,
     "end_time": "2022-11-20T14:54:33.951254",
     "exception": false,
     "start_time": "2022-11-20T14:54:33.903030",
     "status": "completed"
    },
    "tags": []
   },
   "source": [
    "# Data Preprocessing\n",
    "\n",
    "1. Convert text to lowercase\n",
    "2. tokenization\n",
    "3. remove stopwords\n",
    "4. remove punctuation\n",
    "5. stemming"
   ]
  },
  {
   "cell_type": "code",
   "execution_count": 12,
   "id": "78d1da9b",
   "metadata": {
    "execution": {
     "iopub.execute_input": "2022-11-20T14:54:34.053606Z",
     "iopub.status.busy": "2022-11-20T14:54:34.052825Z",
     "iopub.status.idle": "2022-11-20T14:54:34.793665Z",
     "shell.execute_reply": "2022-11-20T14:54:34.793038Z",
     "shell.execute_reply.started": "2022-04-07T10:19:38.565419Z"
    },
    "papermill": {
     "duration": 0.794017,
     "end_time": "2022-11-20T14:54:34.793821",
     "exception": false,
     "start_time": "2022-11-20T14:54:33.999804",
     "status": "completed"
    },
    "tags": []
   },
   "outputs": [],
   "source": [
    "# import required libaries for preprocessing\n",
    "import nltk\n",
    "import string\n",
    "from nltk.corpus import stopwords\n",
    "from nltk.stem import PorterStemmer\n",
    "\n",
    "ps = PorterStemmer()"
   ]
  },
  {
   "cell_type": "code",
   "execution_count": 13,
   "id": "6a7d5877",
   "metadata": {
    "execution": {
     "iopub.execute_input": "2022-11-20T14:54:34.894377Z",
     "iopub.status.busy": "2022-11-20T14:54:34.893672Z",
     "iopub.status.idle": "2022-11-20T14:54:34.899031Z",
     "shell.execute_reply": "2022-11-20T14:54:34.899537Z",
     "shell.execute_reply.started": "2022-04-07T10:19:39.348640Z"
    },
    "papermill": {
     "duration": 0.057229,
     "end_time": "2022-11-20T14:54:34.899708",
     "exception": false,
     "start_time": "2022-11-20T14:54:34.842479",
     "status": "completed"
    },
    "tags": []
   },
   "outputs": [],
   "source": [
    "# Function for entire text transformation\n",
    "\n",
    "def text_preprocessing(text): \n",
    "    # Convert text into lowercase\n",
    "    text = text.lower()\n",
    "    \n",
    "    # Tokenize text into list\n",
    "    tokenize_text = nltk.word_tokenize(text)\n",
    "    \n",
    "    # remove Stopwords\n",
    "    text_without_stopwords = [i for i in tokenize_text if i not in stopwords.words('english')]\n",
    "    \n",
    "    # Remove Punctuation\n",
    "    text_without_punc = [i for i in text_without_stopwords if i not in string.punctuation]\n",
    "    \n",
    "    # fetch only alphanumeric values and apply stemming on that word\n",
    "    transformed_text = [ps.stem(i) for i in text_without_punc if i.isalnum() == True]\n",
    "    \n",
    "    return \" \".join(transformed_text)"
   ]
  },
  {
   "cell_type": "code",
   "execution_count": 14,
   "id": "56fe6468",
   "metadata": {
    "execution": {
     "iopub.execute_input": "2022-11-20T14:54:35.001975Z",
     "iopub.status.busy": "2022-11-20T14:54:35.001243Z",
     "iopub.status.idle": "2022-11-20T14:55:27.657109Z",
     "shell.execute_reply": "2022-11-20T14:55:27.656532Z",
     "shell.execute_reply.started": "2022-04-07T10:19:39.359905Z"
    },
    "papermill": {
     "duration": 52.708381,
     "end_time": "2022-11-20T14:55:27.657273",
     "exception": false,
     "start_time": "2022-11-20T14:54:34.948892",
     "status": "completed"
    },
    "tags": []
   },
   "outputs": [],
   "source": [
    "# Let's Apply This Transformation Function on Our Content Column\n",
    "df['transformed_content'] = df['content'].apply(text_preprocessing)"
   ]
  },
  {
   "cell_type": "code",
   "execution_count": 15,
   "id": "73f5e177",
   "metadata": {
    "execution": {
     "iopub.execute_input": "2022-11-20T14:55:27.760084Z",
     "iopub.status.busy": "2022-11-20T14:55:27.758912Z",
     "iopub.status.idle": "2022-11-20T14:55:27.769261Z",
     "shell.execute_reply": "2022-11-20T14:55:27.769765Z",
     "shell.execute_reply.started": "2022-04-07T10:20:30.624162Z"
    },
    "papermill": {
     "duration": 0.062379,
     "end_time": "2022-11-20T14:55:27.769983",
     "exception": false,
     "start_time": "2022-11-20T14:55:27.707604",
     "status": "completed"
    },
    "tags": []
   },
   "outputs": [],
   "source": [
    "# Drop title author and old content column\n",
    "df = df.drop(['title','author','content'],axis=1)"
   ]
  },
  {
   "cell_type": "code",
   "execution_count": 16,
   "id": "93c48b8b",
   "metadata": {
    "execution": {
     "iopub.execute_input": "2022-11-20T14:55:27.870720Z",
     "iopub.status.busy": "2022-11-20T14:55:27.869742Z",
     "iopub.status.idle": "2022-11-20T14:55:27.878889Z",
     "shell.execute_reply": "2022-11-20T14:55:27.879411Z",
     "shell.execute_reply.started": "2022-04-07T10:20:30.636520Z"
    },
    "papermill": {
     "duration": 0.061443,
     "end_time": "2022-11-20T14:55:27.879593",
     "exception": false,
     "start_time": "2022-11-20T14:55:27.818150",
     "status": "completed"
    },
    "tags": []
   },
   "outputs": [
    {
     "data": {
      "text/html": [
       "<div>\n",
       "<style scoped>\n",
       "    .dataframe tbody tr th:only-of-type {\n",
       "        vertical-align: middle;\n",
       "    }\n",
       "\n",
       "    .dataframe tbody tr th {\n",
       "        vertical-align: top;\n",
       "    }\n",
       "\n",
       "    .dataframe thead th {\n",
       "        text-align: right;\n",
       "    }\n",
       "</style>\n",
       "<table border=\"1\" class=\"dataframe\">\n",
       "  <thead>\n",
       "    <tr style=\"text-align: right;\">\n",
       "      <th></th>\n",
       "      <th>label</th>\n",
       "      <th>transformed_content</th>\n",
       "    </tr>\n",
       "  </thead>\n",
       "  <tbody>\n",
       "    <tr>\n",
       "      <th>0</th>\n",
       "      <td>1</td>\n",
       "      <td>hous dem aid even see comey letter jason chaff...</td>\n",
       "    </tr>\n",
       "    <tr>\n",
       "      <th>1</th>\n",
       "      <td>0</td>\n",
       "      <td>flynn hillari clinton big woman campu breitbar...</td>\n",
       "    </tr>\n",
       "    <tr>\n",
       "      <th>2</th>\n",
       "      <td>1</td>\n",
       "      <td>truth might get fire</td>\n",
       "    </tr>\n",
       "    <tr>\n",
       "      <th>3</th>\n",
       "      <td>1</td>\n",
       "      <td>15 civilian kill singl us airstrik identifi je...</td>\n",
       "    </tr>\n",
       "    <tr>\n",
       "      <th>4</th>\n",
       "      <td>1</td>\n",
       "      <td>iranian woman jail fiction unpublish stori wom...</td>\n",
       "    </tr>\n",
       "  </tbody>\n",
       "</table>\n",
       "</div>"
      ],
      "text/plain": [
       "   label                                transformed_content\n",
       "0      1  hous dem aid even see comey letter jason chaff...\n",
       "1      0  flynn hillari clinton big woman campu breitbar...\n",
       "2      1                               truth might get fire\n",
       "3      1  15 civilian kill singl us airstrik identifi je...\n",
       "4      1  iranian woman jail fiction unpublish stori wom..."
      ]
     },
     "execution_count": 16,
     "metadata": {},
     "output_type": "execute_result"
    }
   ],
   "source": [
    "df.head()"
   ]
  },
  {
   "cell_type": "code",
   "execution_count": 17,
   "id": "8cb16bbd",
   "metadata": {
    "execution": {
     "iopub.execute_input": "2022-11-20T14:55:27.986652Z",
     "iopub.status.busy": "2022-11-20T14:55:27.985932Z",
     "iopub.status.idle": "2022-11-20T14:55:30.083980Z",
     "shell.execute_reply": "2022-11-20T14:55:30.084485Z",
     "shell.execute_reply.started": "2022-04-07T10:20:30.652264Z"
    },
    "papermill": {
     "duration": 2.154653,
     "end_time": "2022-11-20T14:55:30.084685",
     "exception": false,
     "start_time": "2022-11-20T14:55:27.930032",
     "status": "completed"
    },
    "tags": []
   },
   "outputs": [],
   "source": [
    "# let's create new column like number of characters, number of words\n",
    "df['number_of_characters'] = df['transformed_content'].apply(lambda x:len(x))\n",
    "df['number_of_words'] = df['transformed_content'].apply(lambda x:len(nltk.word_tokenize(x)))"
   ]
  },
  {
   "cell_type": "code",
   "execution_count": 18,
   "id": "925916ea",
   "metadata": {
    "execution": {
     "iopub.execute_input": "2022-11-20T14:55:30.194020Z",
     "iopub.status.busy": "2022-11-20T14:55:30.193222Z",
     "iopub.status.idle": "2022-11-20T14:55:30.196595Z",
     "shell.execute_reply": "2022-11-20T14:55:30.197092Z",
     "shell.execute_reply.started": "2022-04-07T10:20:34.062683Z"
    },
    "papermill": {
     "duration": 0.063409,
     "end_time": "2022-11-20T14:55:30.197288",
     "exception": false,
     "start_time": "2022-11-20T14:55:30.133879",
     "status": "completed"
    },
    "tags": []
   },
   "outputs": [
    {
     "data": {
      "text/html": [
       "<div>\n",
       "<style scoped>\n",
       "    .dataframe tbody tr th:only-of-type {\n",
       "        vertical-align: middle;\n",
       "    }\n",
       "\n",
       "    .dataframe tbody tr th {\n",
       "        vertical-align: top;\n",
       "    }\n",
       "\n",
       "    .dataframe thead th {\n",
       "        text-align: right;\n",
       "    }\n",
       "</style>\n",
       "<table border=\"1\" class=\"dataframe\">\n",
       "  <thead>\n",
       "    <tr style=\"text-align: right;\">\n",
       "      <th></th>\n",
       "      <th>label</th>\n",
       "      <th>transformed_content</th>\n",
       "      <th>number_of_characters</th>\n",
       "      <th>number_of_words</th>\n",
       "    </tr>\n",
       "  </thead>\n",
       "  <tbody>\n",
       "    <tr>\n",
       "      <th>0</th>\n",
       "      <td>1</td>\n",
       "      <td>hous dem aid even see comey letter jason chaff...</td>\n",
       "      <td>67</td>\n",
       "      <td>12</td>\n",
       "    </tr>\n",
       "    <tr>\n",
       "      <th>1</th>\n",
       "      <td>0</td>\n",
       "      <td>flynn hillari clinton big woman campu breitbar...</td>\n",
       "      <td>60</td>\n",
       "      <td>9</td>\n",
       "    </tr>\n",
       "    <tr>\n",
       "      <th>2</th>\n",
       "      <td>1</td>\n",
       "      <td>truth might get fire</td>\n",
       "      <td>20</td>\n",
       "      <td>4</td>\n",
       "    </tr>\n",
       "    <tr>\n",
       "      <th>3</th>\n",
       "      <td>1</td>\n",
       "      <td>15 civilian kill singl us airstrik identifi je...</td>\n",
       "      <td>59</td>\n",
       "      <td>9</td>\n",
       "    </tr>\n",
       "    <tr>\n",
       "      <th>4</th>\n",
       "      <td>1</td>\n",
       "      <td>iranian woman jail fiction unpublish stori wom...</td>\n",
       "      <td>84</td>\n",
       "      <td>12</td>\n",
       "    </tr>\n",
       "  </tbody>\n",
       "</table>\n",
       "</div>"
      ],
      "text/plain": [
       "   label                                transformed_content  \\\n",
       "0      1  hous dem aid even see comey letter jason chaff...   \n",
       "1      0  flynn hillari clinton big woman campu breitbar...   \n",
       "2      1                               truth might get fire   \n",
       "3      1  15 civilian kill singl us airstrik identifi je...   \n",
       "4      1  iranian woman jail fiction unpublish stori wom...   \n",
       "\n",
       "   number_of_characters  number_of_words  \n",
       "0                    67               12  \n",
       "1                    60                9  \n",
       "2                    20                4  \n",
       "3                    59                9  \n",
       "4                    84               12  "
      ]
     },
     "execution_count": 18,
     "metadata": {},
     "output_type": "execute_result"
    }
   ],
   "source": [
    "df.head()"
   ]
  },
  {
   "cell_type": "markdown",
   "id": "fbd858ce",
   "metadata": {
    "papermill": {
     "duration": 0.050686,
     "end_time": "2022-11-20T14:55:30.297302",
     "exception": false,
     "start_time": "2022-11-20T14:55:30.246616",
     "status": "completed"
    },
    "tags": []
   },
   "source": [
    "# Exploratory Data Analysis"
   ]
  },
  {
   "cell_type": "code",
   "execution_count": 19,
   "id": "318bf9e6",
   "metadata": {
    "execution": {
     "iopub.execute_input": "2022-11-20T14:55:30.401481Z",
     "iopub.status.busy": "2022-11-20T14:55:30.400540Z",
     "iopub.status.idle": "2022-11-20T14:55:30.628993Z",
     "shell.execute_reply": "2022-11-20T14:55:30.629512Z",
     "shell.execute_reply.started": "2022-04-07T10:20:34.076165Z"
    },
    "papermill": {
     "duration": 0.283036,
     "end_time": "2022-11-20T14:55:30.629691",
     "exception": false,
     "start_time": "2022-11-20T14:55:30.346655",
     "status": "completed"
    },
    "tags": []
   },
   "outputs": [
    {
     "data": {
      "text/plain": [
       "<AxesSubplot:xlabel='label', ylabel='count'>"
      ]
     },
     "execution_count": 19,
     "metadata": {},
     "output_type": "execute_result"
    },
    {
     "data": {
      "image/png": "[encoded data removed]",
      "text/plain": [
       "<Figure size 432x288 with 1 Axes>"
      ]
     },
     "metadata": {
      "needs_background": "light"
     },
     "output_type": "display_data"
    }
   ],
   "source": [
    "# Check Count of labels\n",
    "sns.countplot(x='label',data=df)"
   ]
  },
  {
   "cell_type": "markdown",
   "id": "9abee9e6",
   "metadata": {
    "papermill": {
     "duration": 0.049963,
     "end_time": "2022-11-20T14:55:30.730990",
     "exception": false,
     "start_time": "2022-11-20T14:55:30.681027",
     "status": "completed"
    },
    "tags": []
   },
   "source": [
    "### **Our Data is Balanced**"
   ]
  },
  {
   "cell_type": "code",
   "execution_count": 20,
   "id": "ff9c2dcd",
   "metadata": {
    "execution": {
     "iopub.execute_input": "2022-11-20T14:55:30.836992Z",
     "iopub.status.busy": "2022-11-20T14:55:30.836057Z",
     "iopub.status.idle": "2022-11-20T14:55:30.857758Z",
     "shell.execute_reply": "2022-11-20T14:55:30.857240Z",
     "shell.execute_reply.started": "2022-04-07T10:20:34.293688Z"
    },
    "papermill": {
     "duration": 0.075196,
     "end_time": "2022-11-20T14:55:30.857908",
     "exception": false,
     "start_time": "2022-11-20T14:55:30.782712",
     "status": "completed"
    },
    "tags": []
   },
   "outputs": [
    {
     "data": {
      "text/html": [
       "<div>\n",
       "<style scoped>\n",
       "    .dataframe tbody tr th:only-of-type {\n",
       "        vertical-align: middle;\n",
       "    }\n",
       "\n",
       "    .dataframe tbody tr th {\n",
       "        vertical-align: top;\n",
       "    }\n",
       "\n",
       "    .dataframe thead th {\n",
       "        text-align: right;\n",
       "    }\n",
       "</style>\n",
       "<table border=\"1\" class=\"dataframe\">\n",
       "  <thead>\n",
       "    <tr style=\"text-align: right;\">\n",
       "      <th></th>\n",
       "      <th>number_of_characters</th>\n",
       "      <th>number_of_words</th>\n",
       "    </tr>\n",
       "  </thead>\n",
       "  <tbody>\n",
       "    <tr>\n",
       "      <th>count</th>\n",
       "      <td>10355.000000</td>\n",
       "      <td>10355.000000</td>\n",
       "    </tr>\n",
       "    <tr>\n",
       "      <th>mean</th>\n",
       "      <td>71.657074</td>\n",
       "      <td>11.715693</td>\n",
       "    </tr>\n",
       "    <tr>\n",
       "      <th>std</th>\n",
       "      <td>14.948360</td>\n",
       "      <td>2.317076</td>\n",
       "    </tr>\n",
       "    <tr>\n",
       "      <th>min</th>\n",
       "      <td>23.000000</td>\n",
       "      <td>4.000000</td>\n",
       "    </tr>\n",
       "    <tr>\n",
       "      <th>25%</th>\n",
       "      <td>62.000000</td>\n",
       "      <td>10.000000</td>\n",
       "    </tr>\n",
       "    <tr>\n",
       "      <th>50%</th>\n",
       "      <td>71.000000</td>\n",
       "      <td>12.000000</td>\n",
       "    </tr>\n",
       "    <tr>\n",
       "      <th>75%</th>\n",
       "      <td>81.000000</td>\n",
       "      <td>13.000000</td>\n",
       "    </tr>\n",
       "    <tr>\n",
       "      <th>max</th>\n",
       "      <td>146.000000</td>\n",
       "      <td>24.000000</td>\n",
       "    </tr>\n",
       "  </tbody>\n",
       "</table>\n",
       "</div>"
      ],
      "text/plain": [
       "       number_of_characters  number_of_words\n",
       "count          10355.000000     10355.000000\n",
       "mean              71.657074        11.715693\n",
       "std               14.948360         2.317076\n",
       "min               23.000000         4.000000\n",
       "25%               62.000000        10.000000\n",
       "50%               71.000000        12.000000\n",
       "75%               81.000000        13.000000\n",
       "max              146.000000        24.000000"
      ]
     },
     "execution_count": 20,
     "metadata": {},
     "output_type": "execute_result"
    }
   ],
   "source": [
    "# statical info for True news\n",
    "df[['number_of_characters','number_of_words']][df['label'] == 0].describe()"
   ]
  },
  {
   "cell_type": "code",
   "execution_count": 21,
   "id": "920118a6",
   "metadata": {
    "execution": {
     "iopub.execute_input": "2022-11-20T14:55:30.967528Z",
     "iopub.status.busy": "2022-11-20T14:55:30.966521Z",
     "iopub.status.idle": "2022-11-20T14:55:30.982359Z",
     "shell.execute_reply": "2022-11-20T14:55:30.982947Z",
     "shell.execute_reply.started": "2022-04-07T10:20:34.320581Z"
    },
    "papermill": {
     "duration": 0.073265,
     "end_time": "2022-11-20T14:55:30.983144",
     "exception": false,
     "start_time": "2022-11-20T14:55:30.909879",
     "status": "completed"
    },
    "tags": []
   },
   "outputs": [
    {
     "data": {
      "text/html": [
       "<div>\n",
       "<style scoped>\n",
       "    .dataframe tbody tr th:only-of-type {\n",
       "        vertical-align: middle;\n",
       "    }\n",
       "\n",
       "    .dataframe tbody tr th {\n",
       "        vertical-align: top;\n",
       "    }\n",
       "\n",
       "    .dataframe thead th {\n",
       "        text-align: right;\n",
       "    }\n",
       "</style>\n",
       "<table border=\"1\" class=\"dataframe\">\n",
       "  <thead>\n",
       "    <tr style=\"text-align: right;\">\n",
       "      <th></th>\n",
       "      <th>number_of_characters</th>\n",
       "      <th>number_of_words</th>\n",
       "    </tr>\n",
       "  </thead>\n",
       "  <tbody>\n",
       "    <tr>\n",
       "      <th>count</th>\n",
       "      <td>7766.000000</td>\n",
       "      <td>7766.000000</td>\n",
       "    </tr>\n",
       "    <tr>\n",
       "      <th>mean</th>\n",
       "      <td>58.978238</td>\n",
       "      <td>9.354365</td>\n",
       "    </tr>\n",
       "    <tr>\n",
       "      <th>std</th>\n",
       "      <td>22.804941</td>\n",
       "      <td>3.556096</td>\n",
       "    </tr>\n",
       "    <tr>\n",
       "      <th>min</th>\n",
       "      <td>3.000000</td>\n",
       "      <td>1.000000</td>\n",
       "    </tr>\n",
       "    <tr>\n",
       "      <th>25%</th>\n",
       "      <td>45.000000</td>\n",
       "      <td>7.000000</td>\n",
       "    </tr>\n",
       "    <tr>\n",
       "      <th>50%</th>\n",
       "      <td>58.000000</td>\n",
       "      <td>9.000000</td>\n",
       "    </tr>\n",
       "    <tr>\n",
       "      <th>75%</th>\n",
       "      <td>71.000000</td>\n",
       "      <td>11.000000</td>\n",
       "    </tr>\n",
       "    <tr>\n",
       "      <th>max</th>\n",
       "      <td>306.000000</td>\n",
       "      <td>47.000000</td>\n",
       "    </tr>\n",
       "  </tbody>\n",
       "</table>\n",
       "</div>"
      ],
      "text/plain": [
       "       number_of_characters  number_of_words\n",
       "count           7766.000000      7766.000000\n",
       "mean              58.978238         9.354365\n",
       "std               22.804941         3.556096\n",
       "min                3.000000         1.000000\n",
       "25%               45.000000         7.000000\n",
       "50%               58.000000         9.000000\n",
       "75%               71.000000        11.000000\n",
       "max              306.000000        47.000000"
      ]
     },
     "execution_count": 21,
     "metadata": {},
     "output_type": "execute_result"
    }
   ],
   "source": [
    "# statical info for fake news\n",
    "df[['number_of_characters','number_of_words']][df['label'] == 1].describe()"
   ]
  },
  {
   "cell_type": "code",
   "execution_count": 22,
   "id": "8aa559e4",
   "metadata": {
    "execution": {
     "iopub.execute_input": "2022-11-20T14:55:31.090357Z",
     "iopub.status.busy": "2022-11-20T14:55:31.089363Z",
     "iopub.status.idle": "2022-11-20T14:55:31.418436Z",
     "shell.execute_reply": "2022-11-20T14:55:31.418996Z",
     "shell.execute_reply.started": "2022-04-07T10:20:34.342876Z"
    },
    "papermill": {
     "duration": 0.384726,
     "end_time": "2022-11-20T14:55:31.419197",
     "exception": false,
     "start_time": "2022-11-20T14:55:31.034471",
     "status": "completed"
    },
    "tags": []
   },
   "outputs": [
    {
     "data": {
      "text/plain": [
       "<AxesSubplot:xlabel='number_of_words', ylabel='Count'>"
      ]
     },
     "execution_count": 22,
     "metadata": {},
     "output_type": "execute_result"
    },
    {
     "data": {
      "image/png": "[encoded data removed]",
      "text/plain": [
       "<Figure size 432x288 with 1 Axes>"
      ]
     },
     "metadata": {
      "needs_background": "light"
     },
     "output_type": "display_data"
    }
   ],
   "source": [
    "# histplot for Fake News words and True News words\n",
    "sns.histplot(df['number_of_words'][df['label'] == 0],bins=50,binwidth=2)\n",
    "sns.histplot(df['number_of_words'][df['label'] == 1],color='red',binwidth=2)"
   ]
  },
  {
   "cell_type": "markdown",
   "id": "87ec84c7",
   "metadata": {
    "papermill": {
     "duration": 0.051962,
     "end_time": "2022-11-20T14:55:31.524003",
     "exception": false,
     "start_time": "2022-11-20T14:55:31.472041",
     "status": "completed"
    },
    "tags": []
   },
   "source": [
    "### **Let's make wordcloud of True and Fake News Respectively. so, we can analyze that which words are often used in both type of news.**"
   ]
  },
  {
   "cell_type": "code",
   "execution_count": 23,
   "id": "441f1989",
   "metadata": {
    "execution": {
     "iopub.execute_input": "2022-11-20T14:55:31.636257Z",
     "iopub.status.busy": "2022-11-20T14:55:31.635514Z",
     "iopub.status.idle": "2022-11-20T14:55:31.680317Z",
     "shell.execute_reply": "2022-11-20T14:55:31.680870Z",
     "shell.execute_reply.started": "2022-04-07T10:20:34.655909Z"
    },
    "papermill": {
     "duration": 0.103053,
     "end_time": "2022-11-20T14:55:31.681073",
     "exception": false,
     "start_time": "2022-11-20T14:55:31.578020",
     "status": "completed"
    },
    "tags": []
   },
   "outputs": [],
   "source": [
    "# import wordcloud\n",
    "from wordcloud import WordCloud\n",
    "\n",
    "# make object of wordcloud\n",
    "wc = WordCloud(background_color='white',min_font_size=10,width=500,height=500)"
   ]
  },
  {
   "cell_type": "code",
   "execution_count": 24,
   "id": "3e5d4ea4",
   "metadata": {
    "execution": {
     "iopub.execute_input": "2022-11-20T14:55:31.790078Z",
     "iopub.status.busy": "2022-11-20T14:55:31.789415Z",
     "iopub.status.idle": "2022-11-20T14:55:33.673259Z",
     "shell.execute_reply": "2022-11-20T14:55:33.673764Z",
     "shell.execute_reply.started": "2022-04-07T10:20:34.714582Z"
    },
    "papermill": {
     "duration": 1.940157,
     "end_time": "2022-11-20T14:55:33.673970",
     "exception": false,
     "start_time": "2022-11-20T14:55:31.733813",
     "status": "completed"
    },
    "tags": []
   },
   "outputs": [
    {
     "data": {
      "image/png": "[encoded data removed]",
      "text/plain": [
       "<Figure size 576x432 with 1 Axes>"
      ]
     },
     "metadata": {
      "needs_background": "light"
     },
     "output_type": "display_data"
    }
   ],
   "source": [
    "# WordCloud for True News\n",
    "true_news_wc = wc.generate(df[df['label'] == 0]['transformed_content'].str.cat(sep=\" \"))\n",
    "plt.figure(figsize=(8,6))\n",
    "plt.imshow(true_news_wc)\n",
    "plt.show()"
   ]
  },
  {
   "cell_type": "code",
   "execution_count": 25,
   "id": "8e2d13e7",
   "metadata": {
    "execution": {
     "iopub.execute_input": "2022-11-20T14:55:33.839142Z",
     "iopub.status.busy": "2022-11-20T14:55:33.800264Z",
     "iopub.status.idle": "2022-11-20T14:55:35.395091Z",
     "shell.execute_reply": "2022-11-20T14:55:35.395603Z",
     "shell.execute_reply.started": "2022-04-07T10:20:36.818341Z"
    },
    "papermill": {
     "duration": 1.663782,
     "end_time": "2022-11-20T14:55:35.395790",
     "exception": false,
     "start_time": "2022-11-20T14:55:33.732008",
     "status": "completed"
    },
    "tags": []
   },
   "outputs": [
    {
     "data": {
      "image/png": "[encoded data removed]",
      "text/plain": [
       "<Figure size 576x432 with 1 Axes>"
      ]
     },
     "metadata": {
      "needs_background": "light"
     },
     "output_type": "display_data"
    }
   ],
   "source": [
    "# WordCloud for Fake news\n",
    "fake_news_wc = wc.generate(df[df['label'] == 1]['transformed_content'].str.cat(sep = \" \"))\n",
    "plt.figure(figsize=(8,6))\n",
    "plt.imshow(fake_news_wc)\n",
    "plt.show()"
   ]
  },
  {
   "cell_type": "markdown",
   "id": "a416939d",
   "metadata": {
    "papermill": {
     "duration": 0.061685,
     "end_time": "2022-11-20T14:55:35.519508",
     "exception": false,
     "start_time": "2022-11-20T14:55:35.457823",
     "status": "completed"
    },
    "tags": []
   },
   "source": [
    "### **We can clearly see from this wordcloud that which words are most used in true and fake news.**"
   ]
  },
  {
   "cell_type": "markdown",
   "id": "67983a9e",
   "metadata": {
    "papermill": {
     "duration": 0.060915,
     "end_time": "2022-11-20T14:55:35.642298",
     "exception": false,
     "start_time": "2022-11-20T14:55:35.581383",
     "status": "completed"
    },
    "tags": []
   },
   "source": [
    "### **Let's find specific Count of words.**"
   ]
  },
  {
   "cell_type": "code",
   "execution_count": 26,
   "id": "e84b9514",
   "metadata": {
    "execution": {
     "iopub.execute_input": "2022-11-20T14:55:35.773090Z",
     "iopub.status.busy": "2022-11-20T14:55:35.772058Z",
     "iopub.status.idle": "2022-11-20T14:55:36.137768Z",
     "shell.execute_reply": "2022-11-20T14:55:36.137107Z",
     "shell.execute_reply.started": "2022-04-07T10:20:38.333431Z"
    },
    "papermill": {
     "duration": 0.433176,
     "end_time": "2022-11-20T14:55:36.137942",
     "exception": false,
     "start_time": "2022-11-20T14:55:35.704766",
     "status": "completed"
    },
    "tags": []
   },
   "outputs": [
    {
     "data": {
      "image/png": "[encoded data removed]",
      "text/plain": [
       "<Figure size 432x288 with 1 Axes>"
      ]
     },
     "metadata": {
      "needs_background": "light"
     },
     "output_type": "display_data"
    }
   ],
   "source": [
    "# library for Count Words\n",
    "from collections import Counter\n",
    "\n",
    "# create list of True News words\n",
    "true_news_words_list = df[df['label']==0]['transformed_content'].str.cat(sep = \" \").split()\n",
    "\n",
    "# create DataFrame of that\n",
    "true_news_words_df = pd.DataFrame(Counter(true_news_words_list).most_common(20))\n",
    "\n",
    "# Now Let's Plot barplot of this words\n",
    "sns.barplot(x=true_news_words_df[0],y=true_news_words_df[1])\n",
    "plt.xticks(rotation='vertical')\n",
    "plt.xlabel('Words')\n",
    "plt.ylabel('Counts')\n",
    "plt.title('True News Words Count')\n",
    "plt.show()"
   ]
  },
  {
   "cell_type": "code",
   "execution_count": 27,
   "id": "d88959c0",
   "metadata": {
    "execution": {
     "iopub.execute_input": "2022-11-20T14:55:36.293482Z",
     "iopub.status.busy": "2022-11-20T14:55:36.274255Z",
     "iopub.status.idle": "2022-11-20T14:55:36.619239Z",
     "shell.execute_reply": "2022-11-20T14:55:36.618662Z",
     "shell.execute_reply.started": "2022-04-07T10:20:38.650925Z"
    },
    "papermill": {
     "duration": 0.417825,
     "end_time": "2022-11-20T14:55:36.619396",
     "exception": false,
     "start_time": "2022-11-20T14:55:36.201571",
     "status": "completed"
    },
    "tags": []
   },
   "outputs": [
    {
     "data": {
      "image/png": "[encoded data removed]",
      "text/plain": [
       "<Figure size 432x288 with 1 Axes>"
      ]
     },
     "metadata": {
      "needs_background": "light"
     },
     "output_type": "display_data"
    }
   ],
   "source": [
    "# create list of Fake News words\n",
    "fake_news_words_list = df[df['label']==1]['transformed_content'].str.cat(sep = \" \").split()\n",
    "\n",
    "# create DataFrame of that\n",
    "fake_news_words_df = pd.DataFrame(Counter(fake_news_words_list).most_common(20))\n",
    "\n",
    "# Now Let's Plot barplot of this words\n",
    "sns.barplot(x=fake_news_words_df[0],y=fake_news_words_df[1])\n",
    "plt.xticks(rotation='vertical')\n",
    "plt.xlabel('Words')\n",
    "plt.ylabel('Counts')\n",
    "plt.title('Fake News Words Count')\n",
    "plt.show()"
   ]
  },
  {
   "cell_type": "markdown",
   "id": "838c4686",
   "metadata": {
    "papermill": {
     "duration": 0.063944,
     "end_time": "2022-11-20T14:55:36.747818",
     "exception": false,
     "start_time": "2022-11-20T14:55:36.683874",
     "status": "completed"
    },
    "tags": []
   },
   "source": [
    "# **Feature Splitting**"
   ]
  },
  {
   "cell_type": "code",
   "execution_count": 28,
   "id": "385c25b4",
   "metadata": {
    "execution": {
     "iopub.execute_input": "2022-11-20T14:55:36.879415Z",
     "iopub.status.busy": "2022-11-20T14:55:36.878732Z",
     "iopub.status.idle": "2022-11-20T14:55:36.882490Z",
     "shell.execute_reply": "2022-11-20T14:55:36.883019Z",
     "shell.execute_reply.started": "2022-04-07T10:20:38.948686Z"
    },
    "papermill": {
     "duration": 0.070838,
     "end_time": "2022-11-20T14:55:36.883216",
     "exception": false,
     "start_time": "2022-11-20T14:55:36.812378",
     "status": "completed"
    },
    "tags": []
   },
   "outputs": [],
   "source": [
    "# Let's Separate our Input and Output Columns\n",
    "X = df['transformed_content'].values\n",
    "y = df['label'].values"
   ]
  },
  {
   "cell_type": "code",
   "execution_count": 29,
   "id": "c0f4390b",
   "metadata": {
    "execution": {
     "iopub.execute_input": "2022-11-20T14:55:37.015089Z",
     "iopub.status.busy": "2022-11-20T14:55:37.014430Z",
     "iopub.status.idle": "2022-11-20T14:55:37.026523Z",
     "shell.execute_reply": "2022-11-20T14:55:37.027007Z",
     "shell.execute_reply.started": "2022-04-07T10:20:38.954721Z"
    },
    "papermill": {
     "duration": 0.079601,
     "end_time": "2022-11-20T14:55:37.027198",
     "exception": false,
     "start_time": "2022-11-20T14:55:36.947597",
     "status": "completed"
    },
    "tags": []
   },
   "outputs": [],
   "source": [
    "# let's do Train Test Split of Our Data\n",
    "from sklearn.model_selection import train_test_split\n",
    "\n",
    "X_train,X_test,y_train,y_test = train_test_split(X,y,test_size=0.2,random_state=42,stratify=y)"
   ]
  },
  {
   "cell_type": "code",
   "execution_count": 30,
   "id": "ac1bcc04",
   "metadata": {
    "execution": {
     "iopub.execute_input": "2022-11-20T14:55:37.161244Z",
     "iopub.status.busy": "2022-11-20T14:55:37.160216Z",
     "iopub.status.idle": "2022-11-20T14:55:37.162690Z",
     "shell.execute_reply": "2022-11-20T14:55:37.163238Z",
     "shell.execute_reply.started": "2022-04-07T10:20:38.975828Z"
    },
    "papermill": {
     "duration": 0.071604,
     "end_time": "2022-11-20T14:55:37.163422",
     "exception": false,
     "start_time": "2022-11-20T14:55:37.091818",
     "status": "completed"
    },
    "tags": []
   },
   "outputs": [],
   "source": [
    "# Now Let's Do Vectorization of Transformed Content Using Bag of Words Technique\n",
    "from sklearn.feature_extraction.text import CountVectorizer,TfidfVectorizer\n",
    "\n",
    "# create object of CountVectorizer\n",
    "cf = CountVectorizer(max_features=5000)"
   ]
  },
  {
   "cell_type": "code",
   "execution_count": 31,
   "id": "45ee79bc",
   "metadata": {
    "execution": {
     "iopub.execute_input": "2022-11-20T14:55:37.301818Z",
     "iopub.status.busy": "2022-11-20T14:55:37.300840Z",
     "iopub.status.idle": "2022-11-20T14:55:38.385608Z",
     "shell.execute_reply": "2022-11-20T14:55:38.386136Z",
     "shell.execute_reply.started": "2022-04-07T10:20:38.982878Z"
    },
    "papermill": {
     "duration": 1.158308,
     "end_time": "2022-11-20T14:55:38.386350",
     "exception": false,
     "start_time": "2022-11-20T14:55:37.228042",
     "status": "completed"
    },
    "tags": []
   },
   "outputs": [],
   "source": [
    "# Convert X_train and Y_train into Vevtors\n",
    "X_trf =  cf.fit_transform(X).toarray()\n",
    "X_train = cf.fit_transform(X_train).toarray()\n",
    "X_test = cf.transform(X_test).toarray()"
   ]
  },
  {
   "cell_type": "markdown",
   "id": "45ac28bc",
   "metadata": {
    "papermill": {
     "duration": 0.063389,
     "end_time": "2022-11-20T14:55:38.513504",
     "exception": false,
     "start_time": "2022-11-20T14:55:38.450115",
     "status": "completed"
    },
    "tags": []
   },
   "source": [
    "# **Model Building**"
   ]
  },
  {
   "cell_type": "code",
   "execution_count": 32,
   "id": "89244913",
   "metadata": {
    "execution": {
     "iopub.execute_input": "2022-11-20T14:55:38.646501Z",
     "iopub.status.busy": "2022-11-20T14:55:38.645795Z",
     "iopub.status.idle": "2022-11-20T14:55:38.756503Z",
     "shell.execute_reply": "2022-11-20T14:55:38.755938Z",
     "shell.execute_reply.started": "2022-04-07T10:20:40.239426Z"
    },
    "papermill": {
     "duration": 0.179425,
     "end_time": "2022-11-20T14:55:38.756662",
     "exception": false,
     "start_time": "2022-11-20T14:55:38.577237",
     "status": "completed"
    },
    "tags": []
   },
   "outputs": [],
   "source": [
    "# import required Models \n",
    "from sklearn.svm import SVC\n",
    "from sklearn.linear_model import LogisticRegression\n",
    "from sklearn.naive_bayes import MultinomialNB,GaussianNB,BernoulliNB\n",
    "from sklearn.model_selection import GridSearchCV,ShuffleSplit,cross_val_score\n",
    "from sklearn.ensemble import RandomForestClassifier\n",
    "from sklearn.metrics import confusion_matrix,accuracy_score,precision_score"
   ]
  },
  {
   "cell_type": "code",
   "execution_count": 33,
   "id": "8b4ef33f",
   "metadata": {
    "execution": {
     "iopub.execute_input": "2022-11-20T14:55:38.888815Z",
     "iopub.status.busy": "2022-11-20T14:55:38.888158Z",
     "iopub.status.idle": "2022-11-20T14:55:38.895185Z",
     "shell.execute_reply": "2022-11-20T14:55:38.895851Z",
     "shell.execute_reply.started": "2022-04-07T10:20:40.368732Z"
    },
    "papermill": {
     "duration": 0.074836,
     "end_time": "2022-11-20T14:55:38.896057",
     "exception": false,
     "start_time": "2022-11-20T14:55:38.821221",
     "status": "completed"
    },
    "tags": []
   },
   "outputs": [],
   "source": [
    "# Function to Find Best Model and Parameters of that Model.\n",
    "def check_model(X,y):\n",
    "    algos = {\n",
    "        'lgr':{\n",
    "            'model':LogisticRegression(),\n",
    "            'params':{\n",
    "                'C':[0.1,0.01,1,0.5,2,10,20]\n",
    "            }\n",
    "        },\n",
    "        'mnb':{\n",
    "            'model':MultinomialNB(),\n",
    "            'params':{\n",
    "                \n",
    "            }\n",
    "        },\n",
    "        'bnb':{\n",
    "            'model':BernoulliNB(),\n",
    "            'params':{\n",
    "            \n",
    "            }\n",
    "        },\n",
    "        'gnb':{\n",
    "            'model':GaussianNB(),\n",
    "            'params':{\n",
    "            \n",
    "            }\n",
    "        },\n",
    "    }\n",
    "    \n",
    "    score = []\n",
    "    \n",
    "    for model_name,config in algos.items():\n",
    "        cv = ShuffleSplit(n_splits=5,test_size=0.2,random_state=42)\n",
    "        gd = GridSearchCV(estimator=config['model'],param_grid=config['params'],n_jobs=-1,cv=cv)\n",
    "        gd.fit(X,y)\n",
    "        score.append({'model_name':model_name,'acc_score':gd.best_score_,'best_params':gd.best_params_})\n",
    "        \n",
    "    return pd.DataFrame(score)\n",
    "        "
   ]
  },
  {
   "cell_type": "code",
   "execution_count": 34,
   "id": "ba48cc1d",
   "metadata": {
    "execution": {
     "iopub.execute_input": "2022-11-20T14:55:39.027250Z",
     "iopub.status.busy": "2022-11-20T14:55:39.026593Z",
     "iopub.status.idle": "2022-11-20T14:58:06.508169Z",
     "shell.execute_reply": "2022-11-20T14:58:06.508696Z",
     "shell.execute_reply.started": "2022-04-07T10:20:40.378682Z"
    },
    "papermill": {
     "duration": 147.548706,
     "end_time": "2022-11-20T14:58:06.508900",
     "exception": false,
     "start_time": "2022-11-20T14:55:38.960194",
     "status": "completed"
    },
    "tags": []
   },
   "outputs": [
    {
     "data": {
      "text/html": [
       "<div>\n",
       "<style scoped>\n",
       "    .dataframe tbody tr th:only-of-type {\n",
       "        vertical-align: middle;\n",
       "    }\n",
       "\n",
       "    .dataframe tbody tr th {\n",
       "        vertical-align: top;\n",
       "    }\n",
       "\n",
       "    .dataframe thead th {\n",
       "        text-align: right;\n",
       "    }\n",
       "</style>\n",
       "<table border=\"1\" class=\"dataframe\">\n",
       "  <thead>\n",
       "    <tr style=\"text-align: right;\">\n",
       "      <th></th>\n",
       "      <th>model_name</th>\n",
       "      <th>acc_score</th>\n",
       "      <th>best_params</th>\n",
       "    </tr>\n",
       "  </thead>\n",
       "  <tbody>\n",
       "    <tr>\n",
       "      <th>0</th>\n",
       "      <td>lgr</td>\n",
       "      <td>0.990676</td>\n",
       "      <td>{'C': 20}</td>\n",
       "    </tr>\n",
       "    <tr>\n",
       "      <th>1</th>\n",
       "      <td>mnb</td>\n",
       "      <td>0.968607</td>\n",
       "      <td>{}</td>\n",
       "    </tr>\n",
       "    <tr>\n",
       "      <th>2</th>\n",
       "      <td>bnb</td>\n",
       "      <td>0.981628</td>\n",
       "      <td>{}</td>\n",
       "    </tr>\n",
       "    <tr>\n",
       "      <th>3</th>\n",
       "      <td>gnb</td>\n",
       "      <td>0.895834</td>\n",
       "      <td>{}</td>\n",
       "    </tr>\n",
       "  </tbody>\n",
       "</table>\n",
       "</div>"
      ],
      "text/plain": [
       "  model_name  acc_score best_params\n",
       "0        lgr   0.990676   {'C': 20}\n",
       "1        mnb   0.968607          {}\n",
       "2        bnb   0.981628          {}\n",
       "3        gnb   0.895834          {}"
      ]
     },
     "execution_count": 34,
     "metadata": {},
     "output_type": "execute_result"
    }
   ],
   "source": [
    "# Model's Scores and their Best Parameters\n",
    "check_model(X_trf,y)"
   ]
  },
  {
   "cell_type": "code",
   "execution_count": 35,
   "id": "7a28116b",
   "metadata": {
    "execution": {
     "iopub.execute_input": "2022-11-20T14:58:06.647880Z",
     "iopub.status.busy": "2022-11-20T14:58:06.646903Z",
     "iopub.status.idle": "2022-11-20T14:58:06.649760Z",
     "shell.execute_reply": "2022-11-20T14:58:06.649055Z",
     "shell.execute_reply.started": "2022-04-07T10:21:39.372228Z"
    },
    "papermill": {
     "duration": 0.077095,
     "end_time": "2022-11-20T14:58:06.649928",
     "exception": false,
     "start_time": "2022-11-20T14:58:06.572833",
     "status": "completed"
    },
    "tags": []
   },
   "outputs": [],
   "source": [
    "# Let's Evaluate Model\n",
    "def model_evaluation(model,X_train,X_test,y_train,y_test):\n",
    "    model.fit(X_train,y_train)\n",
    "    train_pred = model.predict(X_train)\n",
    "    test_pred = model.predict(X_test)\n",
    "    train_acc = accuracy_score(y_train,train_pred)\n",
    "    test_acc = accuracy_score(y_test,test_pred)\n",
    "    \n",
    "    train_score = pd.Series({'accuracy_score':accuracy_score(y_train,train_pred),'precision_score':precision_score(y_train,train_pred)})\n",
    "    test_score = pd.Series({'accuracy_score':accuracy_score(y_test,test_pred),'precision_score':precision_score(y_test,test_pred)})\n",
    "    scorecard = pd.concat([train_score,test_score],axis=1)\n",
    "    \n",
    "    scorecard.columns = ['Train_data','Test_data']\n",
    "    \n",
    "    return scorecard"
   ]
  },
  {
   "cell_type": "code",
   "execution_count": 36,
   "id": "79efab1c",
   "metadata": {
    "execution": {
     "iopub.execute_input": "2022-11-20T14:58:06.786343Z",
     "iopub.status.busy": "2022-11-20T14:58:06.785661Z",
     "iopub.status.idle": "2022-11-20T14:58:12.422647Z",
     "shell.execute_reply": "2022-11-20T14:58:12.423764Z",
     "shell.execute_reply.started": "2022-04-07T10:21:41.006400Z"
    },
    "papermill": {
     "duration": 5.709148,
     "end_time": "2022-11-20T14:58:12.424132",
     "exception": false,
     "start_time": "2022-11-20T14:58:06.714984",
     "status": "completed"
    },
    "tags": []
   },
   "outputs": [
    {
     "data": {
      "text/html": [
       "<div>\n",
       "<style scoped>\n",
       "    .dataframe tbody tr th:only-of-type {\n",
       "        vertical-align: middle;\n",
       "    }\n",
       "\n",
       "    .dataframe tbody tr th {\n",
       "        vertical-align: top;\n",
       "    }\n",
       "\n",
       "    .dataframe thead th {\n",
       "        text-align: right;\n",
       "    }\n",
       "</style>\n",
       "<table border=\"1\" class=\"dataframe\">\n",
       "  <thead>\n",
       "    <tr style=\"text-align: right;\">\n",
       "      <th></th>\n",
       "      <th>Train_data</th>\n",
       "      <th>Test_data</th>\n",
       "    </tr>\n",
       "  </thead>\n",
       "  <tbody>\n",
       "    <tr>\n",
       "      <th>accuracy_score</th>\n",
       "      <td>0.999862</td>\n",
       "      <td>0.992276</td>\n",
       "    </tr>\n",
       "    <tr>\n",
       "      <th>precision_score</th>\n",
       "      <td>1.000000</td>\n",
       "      <td>0.990360</td>\n",
       "    </tr>\n",
       "  </tbody>\n",
       "</table>\n",
       "</div>"
      ],
      "text/plain": [
       "                 Train_data  Test_data\n",
       "accuracy_score     0.999862   0.992276\n",
       "precision_score    1.000000   0.990360"
      ]
     },
     "execution_count": 36,
     "metadata": {},
     "output_type": "execute_result"
    }
   ],
   "source": [
    "# Model Evaluation of Logistic Regression\n",
    "model_evaluation(LogisticRegression(C=10),X_train,X_test,y_train,y_test)"
   ]
  },
  {
   "cell_type": "code",
   "execution_count": 37,
   "id": "98a18624",
   "metadata": {
    "execution": {
     "iopub.execute_input": "2022-11-20T14:58:12.606911Z",
     "iopub.status.busy": "2022-11-20T14:58:12.606224Z",
     "iopub.status.idle": "2022-11-20T14:58:15.049396Z",
     "shell.execute_reply": "2022-11-20T14:58:15.050927Z",
     "shell.execute_reply.started": "2022-04-07T10:21:49.955895Z"
    },
    "papermill": {
     "duration": 2.514999,
     "end_time": "2022-11-20T14:58:15.051275",
     "exception": false,
     "start_time": "2022-11-20T14:58:12.536276",
     "status": "completed"
    },
    "tags": []
   },
   "outputs": [
    {
     "data": {
      "text/html": [
       "<div>\n",
       "<style scoped>\n",
       "    .dataframe tbody tr th:only-of-type {\n",
       "        vertical-align: middle;\n",
       "    }\n",
       "\n",
       "    .dataframe tbody tr th {\n",
       "        vertical-align: top;\n",
       "    }\n",
       "\n",
       "    .dataframe thead th {\n",
       "        text-align: right;\n",
       "    }\n",
       "</style>\n",
       "<table border=\"1\" class=\"dataframe\">\n",
       "  <thead>\n",
       "    <tr style=\"text-align: right;\">\n",
       "      <th></th>\n",
       "      <th>Train_data</th>\n",
       "      <th>Test_data</th>\n",
       "    </tr>\n",
       "  </thead>\n",
       "  <tbody>\n",
       "    <tr>\n",
       "      <th>accuracy_score</th>\n",
       "      <td>0.978753</td>\n",
       "      <td>0.964690</td>\n",
       "    </tr>\n",
       "    <tr>\n",
       "      <th>precision_score</th>\n",
       "      <td>0.993811</td>\n",
       "      <td>0.988356</td>\n",
       "    </tr>\n",
       "  </tbody>\n",
       "</table>\n",
       "</div>"
      ],
      "text/plain": [
       "                 Train_data  Test_data\n",
       "accuracy_score     0.978753   0.964690\n",
       "precision_score    0.993811   0.988356"
      ]
     },
     "execution_count": 37,
     "metadata": {},
     "output_type": "execute_result"
    }
   ],
   "source": [
    "# Model Evaluation of LogisticRegression\n",
    "model_evaluation(MultinomialNB(),X_train,X_test,y_train,y_test)"
   ]
  },
  {
   "cell_type": "code",
   "execution_count": 38,
   "id": "75e14e0b",
   "metadata": {
    "execution": {
     "iopub.execute_input": "2022-11-20T14:58:15.240760Z",
     "iopub.status.busy": "2022-11-20T14:58:15.234687Z",
     "iopub.status.idle": "2022-11-20T14:58:17.288220Z",
     "shell.execute_reply": "2022-11-20T14:58:17.286267Z",
     "shell.execute_reply.started": "2022-04-07T10:21:58.086057Z"
    },
    "papermill": {
     "duration": 2.122386,
     "end_time": "2022-11-20T14:58:17.288541",
     "exception": false,
     "start_time": "2022-11-20T14:58:15.166155",
     "status": "completed"
    },
    "tags": []
   },
   "outputs": [
    {
     "data": {
      "text/html": [
       "<div>\n",
       "<style scoped>\n",
       "    .dataframe tbody tr th:only-of-type {\n",
       "        vertical-align: middle;\n",
       "    }\n",
       "\n",
       "    .dataframe tbody tr th {\n",
       "        vertical-align: top;\n",
       "    }\n",
       "\n",
       "    .dataframe thead th {\n",
       "        text-align: right;\n",
       "    }\n",
       "</style>\n",
       "<table border=\"1\" class=\"dataframe\">\n",
       "  <thead>\n",
       "    <tr style=\"text-align: right;\">\n",
       "      <th></th>\n",
       "      <th>Train_data</th>\n",
       "      <th>Test_data</th>\n",
       "    </tr>\n",
       "  </thead>\n",
       "  <tbody>\n",
       "    <tr>\n",
       "      <th>accuracy_score</th>\n",
       "      <td>0.987721</td>\n",
       "      <td>0.980138</td>\n",
       "    </tr>\n",
       "    <tr>\n",
       "      <th>precision_score</th>\n",
       "      <td>0.983029</td>\n",
       "      <td>0.976221</td>\n",
       "    </tr>\n",
       "  </tbody>\n",
       "</table>\n",
       "</div>"
      ],
      "text/plain": [
       "                 Train_data  Test_data\n",
       "accuracy_score     0.987721   0.980138\n",
       "precision_score    0.983029   0.976221"
      ]
     },
     "execution_count": 38,
     "metadata": {},
     "output_type": "execute_result"
    }
   ],
   "source": [
    "model_evaluation(BernoulliNB(),X_train,X_test,y_train,y_test)"
   ]
  },
  {
   "cell_type": "code",
   "execution_count": 39,
   "id": "2184e19c",
   "metadata": {
    "execution": {
     "iopub.execute_input": "2022-11-20T14:58:17.473183Z",
     "iopub.status.busy": "2022-11-20T14:58:17.472009Z",
     "iopub.status.idle": "2022-11-20T14:58:20.170812Z",
     "shell.execute_reply": "2022-11-20T14:58:20.170290Z",
     "shell.execute_reply.started": "2022-04-07T10:22:00.136138Z"
    },
    "papermill": {
     "duration": 2.770668,
     "end_time": "2022-11-20T14:58:20.170994",
     "exception": false,
     "start_time": "2022-11-20T14:58:17.400326",
     "status": "completed"
    },
    "tags": []
   },
   "outputs": [
    {
     "data": {
      "text/html": [
       "<div>\n",
       "<style scoped>\n",
       "    .dataframe tbody tr th:only-of-type {\n",
       "        vertical-align: middle;\n",
       "    }\n",
       "\n",
       "    .dataframe tbody tr th {\n",
       "        vertical-align: top;\n",
       "    }\n",
       "\n",
       "    .dataframe thead th {\n",
       "        text-align: right;\n",
       "    }\n",
       "</style>\n",
       "<table border=\"1\" class=\"dataframe\">\n",
       "  <thead>\n",
       "    <tr style=\"text-align: right;\">\n",
       "      <th></th>\n",
       "      <th>Train_data</th>\n",
       "      <th>Test_data</th>\n",
       "    </tr>\n",
       "  </thead>\n",
       "  <tbody>\n",
       "    <tr>\n",
       "      <th>accuracy_score</th>\n",
       "      <td>0.944329</td>\n",
       "      <td>0.908690</td>\n",
       "    </tr>\n",
       "    <tr>\n",
       "      <th>precision_score</th>\n",
       "      <td>0.888234</td>\n",
       "      <td>0.848036</td>\n",
       "    </tr>\n",
       "  </tbody>\n",
       "</table>\n",
       "</div>"
      ],
      "text/plain": [
       "                 Train_data  Test_data\n",
       "accuracy_score     0.944329   0.908690\n",
       "precision_score    0.888234   0.848036"
      ]
     },
     "execution_count": 39,
     "metadata": {},
     "output_type": "execute_result"
    }
   ],
   "source": [
    "model_evaluation(GaussianNB(),X_train,X_test,y_train,y_test)"
   ]
  },
  {
   "cell_type": "markdown",
   "id": "d1fe10be",
   "metadata": {
    "papermill": {
     "duration": 0.067889,
     "end_time": "2022-11-20T14:58:20.306435",
     "exception": false,
     "start_time": "2022-11-20T14:58:20.238546",
     "status": "completed"
    },
    "tags": []
   },
   "source": [
    "#### **Logistic Regression is Giving us Best result out of all the model. So, we are going to use Logistic Regression here**"
   ]
  },
  {
   "cell_type": "code",
   "execution_count": 40,
   "id": "6e9a07ec",
   "metadata": {
    "execution": {
     "iopub.execute_input": "2022-11-20T14:58:20.441851Z",
     "iopub.status.busy": "2022-11-20T14:58:20.441179Z",
     "iopub.status.idle": "2022-11-20T14:58:25.494299Z",
     "shell.execute_reply": "2022-11-20T14:58:25.495631Z",
     "shell.execute_reply.started": "2022-04-07T10:22:04.027271Z"
    },
    "papermill": {
     "duration": 5.123844,
     "end_time": "2022-11-20T14:58:25.496184",
     "exception": false,
     "start_time": "2022-11-20T14:58:20.372340",
     "status": "completed"
    },
    "tags": []
   },
   "outputs": [
    {
     "data": {
      "text/plain": [
       "LogisticRegression(C=10)"
      ]
     },
     "execution_count": 40,
     "metadata": {},
     "output_type": "execute_result"
    }
   ],
   "source": [
    "# Build Final Model\n",
    "lg = LogisticRegression(C=10)\n",
    "lg.fit(X_train,y_train)"
   ]
  },
  {
   "cell_type": "code",
   "execution_count": 41,
   "id": "0dc7f00f",
   "metadata": {
    "execution": {
     "iopub.execute_input": "2022-11-20T14:58:25.699106Z",
     "iopub.status.busy": "2022-11-20T14:58:25.698245Z",
     "iopub.status.idle": "2022-11-20T14:58:25.701568Z",
     "shell.execute_reply": "2022-11-20T14:58:25.702066Z",
     "shell.execute_reply.started": "2022-04-07T10:22:08.842940Z"
    },
    "papermill": {
     "duration": 0.076833,
     "end_time": "2022-11-20T14:58:25.702238",
     "exception": false,
     "start_time": "2022-11-20T14:58:25.625405",
     "status": "completed"
    },
    "tags": []
   },
   "outputs": [
    {
     "data": {
      "text/plain": [
       "1"
      ]
     },
     "execution_count": 41,
     "metadata": {},
     "output_type": "execute_result"
    }
   ],
   "source": [
    "p1 = X_test[0]\n",
    "lg.predict(p1.reshape(1,-1))[0]"
   ]
  },
  {
   "cell_type": "code",
   "execution_count": 42,
   "id": "a10c08ed",
   "metadata": {
    "execution": {
     "iopub.execute_input": "2022-11-20T14:58:25.841004Z",
     "iopub.status.busy": "2022-11-20T14:58:25.840042Z",
     "iopub.status.idle": "2022-11-20T14:58:25.845214Z",
     "shell.execute_reply": "2022-11-20T14:58:25.845727Z",
     "shell.execute_reply.started": "2022-04-07T10:22:21.314433Z"
    },
    "papermill": {
     "duration": 0.077116,
     "end_time": "2022-11-20T14:58:25.845894",
     "exception": false,
     "start_time": "2022-11-20T14:58:25.768778",
     "status": "completed"
    },
    "tags": []
   },
   "outputs": [],
   "source": [
    "def predict_news(text):\n",
    "    cleaned_text = text_preprocessing(text)\n",
    "    ps = pd.Series(cleaned_text)\n",
    "    final_text = cf.transform(ps).toarray()\n",
    "    pred = lg.predict(final_text.reshape(1,-1))[0]\n",
    "    \n",
    "    if pred == 0:\n",
    "        print(\"It's a True News\")\n",
    "    \n",
    "    else:\n",
    "        print(\"It's a Fake News\")\n"
   ]
  },
  {
   "cell_type": "code",
   "execution_count": 43,
   "id": "d5ccacb2",
   "metadata": {
    "execution": {
     "iopub.execute_input": "2022-11-20T14:58:25.984147Z",
     "iopub.status.busy": "2022-11-20T14:58:25.983468Z",
     "iopub.status.idle": "2022-11-20T14:58:25.989786Z",
     "shell.execute_reply": "2022-11-20T14:58:25.990311Z",
     "shell.execute_reply.started": "2022-04-07T10:22:23.450280Z"
    },
    "papermill": {
     "duration": 0.078423,
     "end_time": "2022-11-20T14:58:25.990496",
     "exception": false,
     "start_time": "2022-11-20T14:58:25.912073",
     "status": "completed"
    },
    "tags": []
   },
   "outputs": [
    {
     "name": "stdout",
     "output_type": "stream",
     "text": [
      "It's a True News\n"
     ]
    }
   ],
   "source": [
    "predict_news(\"jame comey loretta lynch tri influenc statement hillari clinton investig charli spier\")"
   ]
  },
  {
   "cell_type": "code",
   "execution_count": 44,
   "id": "de8939d9",
   "metadata": {
    "execution": {
     "iopub.execute_input": "2022-11-20T14:58:26.132675Z",
     "iopub.status.busy": "2022-11-20T14:58:26.131868Z",
     "iopub.status.idle": "2022-11-20T14:58:31.605118Z",
     "shell.execute_reply": "2022-11-20T14:58:31.606743Z",
     "shell.execute_reply.started": "2022-04-07T10:23:11.158163Z"
    },
    "papermill": {
     "duration": 5.547076,
     "end_time": "2022-11-20T14:58:31.607108",
     "exception": false,
     "start_time": "2022-11-20T14:58:26.060032",
     "status": "completed"
    },
    "tags": []
   },
   "outputs": [
    {
     "data": {
      "text/html": [
       "<div>\n",
       "<style scoped>\n",
       "    .dataframe tbody tr th:only-of-type {\n",
       "        vertical-align: middle;\n",
       "    }\n",
       "\n",
       "    .dataframe tbody tr th {\n",
       "        vertical-align: top;\n",
       "    }\n",
       "\n",
       "    .dataframe thead th {\n",
       "        text-align: right;\n",
       "    }\n",
       "</style>\n",
       "<table border=\"1\" class=\"dataframe\">\n",
       "  <thead>\n",
       "    <tr style=\"text-align: right;\">\n",
       "      <th></th>\n",
       "      <th>Train_data</th>\n",
       "      <th>Test_data</th>\n",
       "    </tr>\n",
       "  </thead>\n",
       "  <tbody>\n",
       "    <tr>\n",
       "      <th>accuracy_score</th>\n",
       "      <td>0.999862</td>\n",
       "      <td>0.992276</td>\n",
       "    </tr>\n",
       "    <tr>\n",
       "      <th>precision_score</th>\n",
       "      <td>1.000000</td>\n",
       "      <td>0.990360</td>\n",
       "    </tr>\n",
       "  </tbody>\n",
       "</table>\n",
       "</div>"
      ],
      "text/plain": [
       "                 Train_data  Test_data\n",
       "accuracy_score     0.999862   0.992276\n",
       "precision_score    1.000000   0.990360"
      ]
     },
     "execution_count": 44,
     "metadata": {},
     "output_type": "execute_result"
    }
   ],
   "source": [
    "# Model Evaluation of Logistic Regression\n",
    "model_evaluation(lg,X_train,X_test,y_train,y_test)"
   ]
  },
  {
   "cell_type": "markdown",
   "id": "789f9560",
   "metadata": {
    "papermill": {
     "duration": 0.068396,
     "end_time": "2022-11-20T14:58:31.789359",
     "exception": false,
     "start_time": "2022-11-20T14:58:31.720963",
     "status": "completed"
    },
    "tags": []
   },
   "source": [
    "#### **So Finaly Our Model is Created and It's Ready to Predict Now. Thank You.**"
   ]
  }
 ],
 "metadata": {
  "kernelspec": {
   "display_name": "Python 3",
   "language": "python",
   "name": "python3"
  },
  "language_info": {
   "codemirror_mode": {
    "name": "ipython",
    "version": 3
   },
   "file_extension": ".py",
   "mimetype": "text/x-python",
   "name": "python",
   "nbconvert_exporter": "python",
   "pygments_lexer": "ipython3",
   "version": "3.7.12"
  },
  "papermill": {
   "default_parameters": {},
   "duration": 254.832351,
   "end_time": "2022-11-20T14:58:32.970121",
   "environment_variables": {},
   "exception": null,
   "input_path": "__notebook__.ipynb",
   "output_path": "__notebook__.ipynb",
   "parameters": {},
   "start_time": "2022-11-20T14:54:18.137770",
   "version": "2.3.3"
  }
 },
 "nbformat": 4,
 "nbformat_minor": 5
}
